{
 "cells": [
  {
   "cell_type": "code",
   "execution_count": 2,
   "metadata": {},
   "outputs": [
    {
     "name": "stdout",
     "output_type": "stream",
     "text": [
      "['Music', 'Running', 'Studying', 'Gaming', 'Singing']\n"
     ]
    }
   ],
   "source": [
    "my_name = \"Carlos\"\n",
    "my_surname = \"Lavado\"\n",
    "my_age = 23\n",
    "my_career = \"Business Management\"\n",
    "my_list_of_hobbies = [\"Music\", \"Running\", \"Studying\", \"Gaming\"] \n",
    "my_list_of_hobbies = my_list_of_hobbies + [\"Singing\"]\n",
    "print(my_list_of_hobbies)\n"
   ]
  },
  {
   "cell_type": "code",
   "execution_count": 3,
   "metadata": {},
   "outputs": [
    {
     "name": "stdout",
     "output_type": "stream",
     "text": [
      "Carlos\n"
     ]
    }
   ],
   "source": [
    "print(my_name)"
   ]
  },
  {
   "cell_type": "code",
   "execution_count": 8,
   "metadata": {},
   "outputs": [
    {
     "name": "stdout",
     "output_type": "stream",
     "text": [
      "Blue\n",
      "{0: 'Blue', 1: 'Purple', 2: 'Orange', 3: 'Red'}\n"
     ]
    }
   ],
   "source": [
    "colors = {0: \"Blue\", 1: \"Purple\", 2: \"Orange\"}\n",
    "favorite_color = colors[0]\n",
    "print (favorite_color)\n",
    "colors[3] = \"Red\"\n",
    "print(colors)"
   ]
  },
  {
   "cell_type": "code",
   "execution_count": 10,
   "metadata": {},
   "outputs": [
    {
     "name": "stdout",
     "output_type": "stream",
     "text": [
      "1.2857142857142858\n",
      "1\n"
     ]
    }
   ],
   "source": [
    "fav_numb = 9\n",
    "second_fav = 7\n",
    "print (9/7)\n",
    "print (9//7)"
   ]
  },
  {
   "cell_type": "code",
   "execution_count": 11,
   "metadata": {},
   "outputs": [
    {
     "name": "stdout",
     "output_type": "stream",
     "text": [
      "['Music', 'Running', 'Gaming', 'Singing', 'Guitar']\n"
     ]
    }
   ],
   "source": [
    "my_list_of_hobbies.remove(\"Studying\")\n",
    "my_list_of_hobbies.append(\"Guitar\")\n",
    "print(my_list_of_hobbies)"
   ]
  },
  {
   "cell_type": "code",
   "execution_count": 14,
   "metadata": {},
   "outputs": [
    {
     "name": "stdout",
     "output_type": "stream",
     "text": [
      "Vienna waits for you\n",
      "[' ', ' ', ' ', 'V', 'a', 'a', 'e', 'f', 'i', 'i', 'n', 'n', 'o', 'o', 'r', 's', 't', 'u', 'w', 'y']\n"
     ]
    }
   ],
   "source": [
    "billy = \"Vienna waits for you\"\n",
    "print(billy)\n",
    "print(sorted(billy))"
   ]
  },
  {
   "cell_type": "markdown",
   "metadata": {},
   "source": [
    "Como los STRINGS son LISTAS de caracteres, la función sorted ordena cada letra"
   ]
  }
 ],
 "metadata": {
  "kernelspec": {
   "display_name": "Python 3",
   "language": "python",
   "name": "python3"
  },
  "language_info": {
   "codemirror_mode": {
    "name": "ipython",
    "version": 3
   },
   "file_extension": ".py",
   "mimetype": "text/x-python",
   "name": "python",
   "nbconvert_exporter": "python",
   "pygments_lexer": "ipython3",
   "version": "3.8.2"
  }
 },
 "nbformat": 4,
 "nbformat_minor": 4
}
